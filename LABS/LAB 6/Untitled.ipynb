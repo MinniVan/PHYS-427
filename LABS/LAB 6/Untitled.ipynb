{
 "cells": [
  {
   "cell_type": "code",
   "execution_count": 1,
   "id": "9d201b7c-9026-4cda-8094-cd753a326e4f",
   "metadata": {},
   "outputs": [],
   "source": [
    "# Import neccessary packages\n",
    "\n",
    "%matplotlib inline\n",
    "\n",
    "import numpy as np\n",
    "import matplotlib.pyplot as plt\n",
    "\n",
    "import torch"
   ]
  },
  {
   "cell_type": "markdown",
   "id": "4736a078-9002-4f97-9ab4-d4fd2b26a355",
   "metadata": {},
   "source": [
    "Upload a Python code snippet that defines a neural network model class \"GRU_Denoiser\" which takes in noisy input sequence and outputs denoised sequence with the following specifications. \n",
    "\n",
    "GRU Cell: input_size = 1, hidden_size = 32, num_layers = 2, bidirectional, batch_first\n",
    "Decoder: input dimension = 32 * 2, output dimension = 1\n",
    "Output Activation Function: Tanh"
   ]
  },
  {
   "cell_type": "code",
   "execution_count": 2,
   "id": "782dd39e-635e-4845-9437-cb39a0b3edd1",
   "metadata": {},
   "outputs": [],
   "source": [
    "class GRU_Denoiser(torch.nn.Module):\n",
    "    \n",
    "    def __init__(self):\n",
    "        super(GRU_Denoiser, self).__init__()\n",
    "        \n",
    "        self.gru = torch.nn.GRU(input_size=1, hidden_size=32, \n",
    "                                num_layers=2, batch_first=True, \n",
    "                                bidirectional=True)\n",
    "        self.decoder = torch.nn.Linear(32*2, 1)\n",
    "        self.output_activation = torch.nn.Tanh()\n",
    "        \n",
    "    def forward(self, input_seq, hidden_state):\n",
    "        pred, hidden = self.gru(input_seq, hidden_state)\n",
    "        pred = self.output_activation(self.decoder(pred))\n",
    "        \n",
    "        return pred\n",
    "        "
   ]
  },
  {
   "cell_type": "code",
   "execution_count": null,
   "id": "5d17ec61-772c-489c-956f-36686698007d",
   "metadata": {},
   "outputs": [],
   "source": []
  }
 ],
 "metadata": {
  "kernelspec": {
   "display_name": "Python 3",
   "language": "python",
   "name": "python3"
  },
  "language_info": {
   "codemirror_mode": {
    "name": "ipython",
    "version": 3
   },
   "file_extension": ".py",
   "mimetype": "text/x-python",
   "name": "python",
   "nbconvert_exporter": "python",
   "pygments_lexer": "ipython3",
   "version": "3.8.8"
  }
 },
 "nbformat": 4,
 "nbformat_minor": 5
}
