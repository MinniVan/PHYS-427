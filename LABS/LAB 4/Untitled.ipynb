{
 "cells": [
  {
   "cell_type": "markdown",
   "id": "be7b46df-74a4-4642-8734-68dee810de7f",
   "metadata": {},
   "source": [
    "Convolution layer 1 = input channels = 1, output channels = 16, kernel size 3, stride = 1, padding = 0, ReLU activation.\n",
    "\n",
    "Max pool layer 1 = kernel size 2\n",
    "\n",
    "Convolution layer 2 = input channels = 16, output channels = 32, kernel size 3, stride = 1, padding = 0, ReLU activation.\n",
    "\n",
    "Max pool layer 2 = kernel size 2\n",
    "\n",
    "Fully Connected layer 1 = 800 neurons\n",
    "\n",
    "Output layer = 10 neuron"
   ]
  },
  {
   "cell_type": "code",
   "execution_count": 2,
   "id": "7c15f999-7bbd-4bbc-afc3-4a647d2f7781",
   "metadata": {},
   "outputs": [],
   "source": [
    "# Import neccessary packages\n",
    "\n",
    "%matplotlib inline\n",
    "\n",
    "import numpy as np\n",
    "import matplotlib.pyplot as plt\n",
    "\n",
    "import torch"
   ]
  },
  {
   "cell_type": "code",
   "execution_count": 3,
   "id": "d163ae27-9283-4106-875d-cdfe7574c156",
   "metadata": {},
   "outputs": [
    {
     "data": {
      "text/plain": [
       "True"
      ]
     },
     "execution_count": 3,
     "metadata": {},
     "output_type": "execute_result"
    }
   ],
   "source": [
    "torch.cuda.is_available()"
   ]
  },
  {
   "cell_type": "code",
   "execution_count": 4,
   "id": "bf378cda-23fb-4e05-a1a5-b23678979a5f",
   "metadata": {},
   "outputs": [],
   "source": [
    "\n",
    "class myCNNModel(torch.nn.Module):\n",
    "    \n",
    "    def __init__(self):\n",
    "        \n",
    "        super(myModel, self).__init__()\n",
    "        \n",
    "        # two layers for our NN, output of the first\n",
    "        # layer is 5, and is fed to the secound layer\n",
    "        self.convlayer1 = torch.nn.Conv2d(in_channels=1, out_channels=16, kernal_size=3, stride=1, padding=0)\n",
    "        self.mxpoollayer1 = torch.nn.MaxPool2d(kernal_size=2)\n",
    "        self.convlayer2 = torch.nn.Conv2d(in_channels=16, out_channels=32, kernal_size=3, stride=1, padding=0)\n",
    "        self.mxpoollayer2 = torch.nn.MaxPool2d(kernal_size=2)\n",
    "        self.fc1 = torch.nn.Linear(800, 10)\n",
    "        \n",
    "        \n",
    "    def forward(self, x):\n",
    "        \n",
    "        conv1_out = torch.nn.functional.relu(self.convlayer1(x))\n",
    "        pool1_out = self.mxpoollayer1(conv1_out)\n",
    "        \n",
    "        conv2_out = torch.nn.functional.relu(self.convlayer2(pool1_out))\n",
    "        pool2_out = self.mxpoollayer1(conv2_out)\n",
    "        \n",
    "        fcn_input = pool2_out.view(pool2_out.size(0), -1)\n",
    "        \n",
    "        out = self.fc1(fcn_input)\n",
    "        \n",
    "        return out\n"
   ]
  },
  {
   "cell_type": "code",
   "execution_count": null,
   "id": "cf609f82-af73-4d7e-884e-65678262fcd3",
   "metadata": {},
   "outputs": [],
   "source": []
  }
 ],
 "metadata": {
  "kernelspec": {
   "display_name": "Python 3",
   "language": "python",
   "name": "python3"
  },
  "language_info": {
   "codemirror_mode": {
    "name": "ipython",
    "version": 3
   },
   "file_extension": ".py",
   "mimetype": "text/x-python",
   "name": "python",
   "nbconvert_exporter": "python",
   "pygments_lexer": "ipython3",
   "version": "3.8.8"
  }
 },
 "nbformat": 4,
 "nbformat_minor": 5
}
