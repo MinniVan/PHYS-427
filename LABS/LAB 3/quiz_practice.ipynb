{
 "cells": [
  {
   "cell_type": "markdown",
   "id": "948f2dfe-3f90-4df7-b2b3-ff1347393d70",
   "metadata": {},
   "source": [
    "Task:\n",
    "define a neural network model class \"myModel\" with the following specifications.\n",
    "\n",
    "Input layer = 10 neurons\n",
    "\n",
    "First hidden layer = 32 neurons, Sigmoid activation \n",
    "\n",
    "Second hidden layer = 16 neurons, Sigmoid activation, Dropout with 30% probability (applied after sigmoid activation)\n",
    "\n",
    "Output layer = 5 neurons, Softmax activation"
   ]
  },
  {
   "cell_type": "code",
   "execution_count": 2,
   "id": "9aab9956-6c4f-460d-bc62-fc9c363aacd0",
   "metadata": {},
   "outputs": [],
   "source": [
    "# Import neccessary packages\n",
    "\n",
    "%matplotlib inline\n",
    "\n",
    "import numpy as np\n",
    "import matplotlib.pyplot as plt\n",
    "\n",
    "import torch"
   ]
  },
  {
   "cell_type": "code",
   "execution_count": 3,
   "id": "807b601c-0766-4810-b541-bf97e6a58620",
   "metadata": {},
   "outputs": [
    {
     "data": {
      "text/plain": [
       "False"
      ]
     },
     "execution_count": 3,
     "metadata": {},
     "output_type": "execute_result"
    }
   ],
   "source": [
    "torch.cuda.is_available()"
   ]
  },
  {
   "cell_type": "code",
   "execution_count": 9,
   "id": "415bf9d6-0f3e-4d24-b8c7-49f8c4fcc3dd",
   "metadata": {},
   "outputs": [],
   "source": [
    "\n",
    "class myModel(torch.nn.Module):\n",
    "    \n",
    "    def __init__(self, input_dim, output_dim):\n",
    "        \n",
    "        super(myModel, self).__init__()\n",
    "        \n",
    "        _layer1_out = 32   # private field for the output dim of the first layer\n",
    "        _layer2_out = 16   # private field for the ourpt\n",
    "        \n",
    "        # two layers for our NN, output of the first\n",
    "        # layer is 5, and is fed to the secound layer\n",
    "        self.layer1 = torch.nn.Linear(input_dim, _layer1_out)\n",
    "        self.layer2 = torch.nn.Linear(_layer1_out, _layer2_out)\n",
    "        self.dropout = torch.nn.Dropout(p = 0.30)\n",
    "        self.layer2 = torch.nn.Linear(_layer2_out, output_dim)\n",
    "        \n",
    "    def forward(self, x):\n",
    "        \n",
    "        # code here\n",
    "        out_layer1 = torch.nn.sigmoid(self.layer1(x))\n",
    "        out_layer2 = torch.nn.sigmoid(self.layer2(out_layer1))\n",
    "        out_drop = self.dropout(out_layer2)\n",
    "        out_layer3 = torch.nn.softmax(self.layer3(out_drop))\n",
    "        \n",
    "        \n",
    "        return out_layer3\n",
    "\n",
    "model = myModel(input_dim = 10, output_dim = 5)"
   ]
  },
  {
   "cell_type": "code",
   "execution_count": null,
   "id": "f11d31ce-82c0-4c30-8243-fa598ffc351c",
   "metadata": {},
   "outputs": [],
   "source": []
  }
 ],
 "metadata": {
  "kernelspec": {
   "display_name": "Python 3",
   "language": "python",
   "name": "python3"
  },
  "language_info": {
   "codemirror_mode": {
    "name": "ipython",
    "version": 3
   },
   "file_extension": ".py",
   "mimetype": "text/x-python",
   "name": "python",
   "nbconvert_exporter": "python",
   "pygments_lexer": "ipython3",
   "version": "3.8.8"
  }
 },
 "nbformat": 4,
 "nbformat_minor": 5
}
