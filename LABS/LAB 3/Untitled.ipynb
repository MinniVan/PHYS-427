{
 "cells": [
  {
   "cell_type": "markdown",
   "id": "948f2dfe-3f90-4df7-b2b3-ff1347393d70",
   "metadata": {},
   "source": [
    "Task:\n",
    "define a neural network model class \"myModel\" with the following specifications.\n",
    "\n",
    "Input layer = 10 neurons\n",
    "\n",
    "First hidden layer = 32 neurons, Sigmoid activation \n",
    "\n",
    "Second hidden layer = 16 neurons, Sigmoid activation, Dropout with 30% probability (applied after sigmoid activation)\n",
    "\n",
    "Output layer = 5 neurons, Softmax activation"
   ]
  },
  {
   "cell_type": "code",
   "execution_count": 1,
   "id": "415bf9d6-0f3e-4d24-b8c7-49f8c4fcc3dd",
   "metadata": {},
   "outputs": [
    {
     "ename": "NameError",
     "evalue": "name 'torch' is not defined",
     "output_type": "error",
     "traceback": [
      "\u001b[1;31m---------------------------------------------------------------------------\u001b[0m",
      "\u001b[1;31mNameError\u001b[0m                                 Traceback (most recent call last)",
      "\u001b[1;32m<ipython-input-1-769b438d1e7e>\u001b[0m in \u001b[0;36m<module>\u001b[1;34m\u001b[0m\n\u001b[1;32m----> 1\u001b[1;33m \u001b[1;32mclass\u001b[0m \u001b[0mmyModel\u001b[0m\u001b[1;33m(\u001b[0m\u001b[0mtorch\u001b[0m\u001b[1;33m.\u001b[0m\u001b[0mnn\u001b[0m\u001b[1;33m.\u001b[0m\u001b[0mModule\u001b[0m\u001b[1;33m)\u001b[0m\u001b[1;33m:\u001b[0m\u001b[1;33m\u001b[0m\u001b[1;33m\u001b[0m\u001b[0m\n\u001b[0m\u001b[0;32m      2\u001b[0m \u001b[1;33m\u001b[0m\u001b[0m\n\u001b[0;32m      3\u001b[0m     \u001b[1;32mdef\u001b[0m \u001b[0m__init__\u001b[0m\u001b[1;33m(\u001b[0m\u001b[0mself\u001b[0m\u001b[1;33m,\u001b[0m \u001b[0minput_dim\u001b[0m\u001b[1;33m,\u001b[0m \u001b[0moutput_dim\u001b[0m\u001b[1;33m)\u001b[0m\u001b[1;33m:\u001b[0m\u001b[1;33m\u001b[0m\u001b[1;33m\u001b[0m\u001b[0m\n\u001b[0;32m      4\u001b[0m \u001b[1;33m\u001b[0m\u001b[0m\n\u001b[0;32m      5\u001b[0m         \u001b[0msuper\u001b[0m\u001b[1;33m(\u001b[0m\u001b[0mirisClassification\u001b[0m\u001b[1;33m,\u001b[0m \u001b[0mself\u001b[0m\u001b[1;33m)\u001b[0m\u001b[1;33m.\u001b[0m\u001b[0m__init__\u001b[0m\u001b[1;33m(\u001b[0m\u001b[1;33m)\u001b[0m\u001b[1;33m\u001b[0m\u001b[1;33m\u001b[0m\u001b[0m\n",
      "\u001b[1;31mNameError\u001b[0m: name 'torch' is not defined"
     ]
    }
   ],
   "source": [
    "\n",
    "class myModel(torch.nn.Module):\n",
    "    \n",
    "    def __init__(self, input_dim, output_dim):\n",
    "        \n",
    "        super(irisClassification, self).__init__()\n",
    "        \n",
    "        _layer1_out = 32   # private field for the output dim of the first layer\n",
    "        _layer2_out = 16\n",
    "        \n",
    "        # two layers for our NN, output of the first\n",
    "        # layer is 5, and is fed to the secound layer\n",
    "        self.layer1 = torch.nn.Linear(input_dim, _layer1_out)\n",
    "        self.layer2 = torch.nn.Linear(_layer1_out, _layer2_out)\n",
    "        self.layer2 = torch.nn.Linear(_layer2_out, output_dim)\n",
    "        \n",
    "    def forward(self, x):\n",
    "        \n",
    "        # code here\n",
    "        out_layer1 = self.layer1(x)\n",
    "        out_layer2 = self.layer2(out_layer1)\n",
    "        out_layer3 = self.layer3(out_layer2)\n",
    "        \n",
    "        \n",
    "        return out_layer3\n",
    "\n",
    "model = myModel(input_dim = 10, output_dim = 5)"
   ]
  },
  {
   "cell_type": "code",
   "execution_count": null,
   "id": "f11d31ce-82c0-4c30-8243-fa598ffc351c",
   "metadata": {},
   "outputs": [],
   "source": []
  }
 ],
 "metadata": {
  "kernelspec": {
   "display_name": "Python 3",
   "language": "python",
   "name": "python3"
  },
  "language_info": {
   "codemirror_mode": {
    "name": "ipython",
    "version": 3
   },
   "file_extension": ".py",
   "mimetype": "text/x-python",
   "name": "python",
   "nbconvert_exporter": "python",
   "pygments_lexer": "ipython3",
   "version": "3.8.8"
  }
 },
 "nbformat": 4,
 "nbformat_minor": 5
}
