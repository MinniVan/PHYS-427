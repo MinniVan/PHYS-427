{
 "cells": [
  {
   "cell_type": "markdown",
   "id": "036c8d00-583f-4375-9033-6b548c9bfb04",
   "metadata": {},
   "source": [
    "Encoder : Uses GRU, input_size = 1, hidden_size = 64, num_layers = 1, batch_first\n",
    "\n",
    "Decoder : Uses GRU, input_size = 1, hidden_size = 64, num_layers = 1, batch_first, Fully Connected Layer with output size = 1 to translate hidden states to a final output\n",
    "\n",
    "Encoder_Decoder: A model class that combines the above Encoder and Decoder into one in __init__ function. "
   ]
  },
  {
   "cell_type": "code",
   "execution_count": 1,
   "id": "7a87bbbf-5d12-4e2c-a082-daae3e31908b",
   "metadata": {},
   "outputs": [],
   "source": [
    "%matplotlib inline\n",
    "\n",
    "import numpy as np\n",
    "import matplotlib.pyplot as plt\n",
    "import torch\n",
    "import seaborn as sns\n",
    "import IPython\n",
    "\n",
    "from scipy.io.wavfile import write"
   ]
  },
  {
   "cell_type": "code",
   "execution_count": 5,
   "id": "bf755728-0255-4652-b8bb-8d2b10cd8d56",
   "metadata": {},
   "outputs": [],
   "source": [
    "class Encoder(torch.nn.Module):\n",
    "    \n",
    "    def __init__(self):\n",
    "        super(Encoder,  self).__init__()\n",
    "        \n",
    "        self.gru = torch.nn.GRU(input_size=1, hidden_size=64,\n",
    "                               num_layers=1, batch_first=True)\n",
    "        \n",
    "    def forward(self, input_seq, hidden_state):\n",
    "        gru_out, hidden = self.gru(input_seq, hidden_state)\n",
    "        return gru_out, hidden\n",
    "    \n",
    "\n",
    "    \n",
    "class Decoder(torch.nn.Module):\n",
    "    \n",
    "    def __init__(self):\n",
    "        super(Decoder, self).__init__()\n",
    "        \n",
    "        self.gru = torch.nn.GRU(input_size=1, hidden_size=64,\n",
    "                                num_layers=1, batch_first=True)\n",
    "        self.fcn = torch.nn.Linear(64, 1)\n",
    "        \n",
    "    def forward(self, input_seq, encoder_hidden_states):\n",
    "        gru_out, hidden = self.gru(input_seq, encoder_hidden_states)\n",
    "        output = self.fcn(gru_out)\n",
    "        return output, hidden\n",
    "    \n",
    "\n",
    "class Encoder_Decoder(torch.nn.Module):\n",
    "    \n",
    "    def __init__(self):\n",
    "        super(Encoder_Decoder, self).__init__()\n",
    "        \n",
    "        self.Encoder = Encoder()\n",
    "        self.Decoder = Decoder()"
   ]
  },
  {
   "cell_type": "code",
   "execution_count": 7,
   "id": "dc5eb99b-bb32-4a72-b79a-9e53a18ebb1b",
   "metadata": {},
   "outputs": [
    {
     "data": {
      "text/plain": [
       "Encoder_Decoder(\n",
       "  (Encoder): Encoder(\n",
       "    (gru): GRU(1, 64, batch_first=True)\n",
       "  )\n",
       "  (Decoder): Decoder(\n",
       "    (gru): GRU(1, 64, batch_first=True)\n",
       "    (fcn): Linear(in_features=64, out_features=1, bias=True)\n",
       "  )\n",
       ")"
      ]
     },
     "execution_count": 7,
     "metadata": {},
     "output_type": "execute_result"
    }
   ],
   "source": [
    "Encoder_Decoder_RNN = Encoder_Decoder()\n",
    "Encoder_Decoder_RNN"
   ]
  },
  {
   "cell_type": "code",
   "execution_count": null,
   "id": "0bc8beda-b225-4bcc-ac25-3848ad624efb",
   "metadata": {},
   "outputs": [],
   "source": []
  }
 ],
 "metadata": {
  "kernelspec": {
   "display_name": "Python 3",
   "language": "python",
   "name": "python3"
  },
  "language_info": {
   "codemirror_mode": {
    "name": "ipython",
    "version": 3
   },
   "file_extension": ".py",
   "mimetype": "text/x-python",
   "name": "python",
   "nbconvert_exporter": "python",
   "pygments_lexer": "ipython3",
   "version": "3.8.8"
  }
 },
 "nbformat": 4,
 "nbformat_minor": 5
}
