{
 "cells": [
  {
   "cell_type": "markdown",
   "id": "1d303f28-cd68-4d12-9693-a3c359ddbfcb",
   "metadata": {},
   "source": [
    "Embedding layer: # of embeddings: 10, embedding dimension: 30\n",
    "\n",
    "RNN Cell: input_size = 30, hidden_size = 128, num_layers = 1, nonlinearity = 'tanh'  \n",
    "\n",
    "Decoder: input dimension = 128, output dimension = 10"
   ]
  },
  {
   "cell_type": "code",
   "execution_count": 1,
   "id": "1a197d2a-06c1-4c81-a25f-ca4eaa0056cc",
   "metadata": {},
   "outputs": [],
   "source": [
    "# Import neccessary packages\n",
    "\n",
    "%matplotlib inline\n",
    "\n",
    "import numpy as np\n",
    "import matplotlib.pyplot as plt\n",
    "\n",
    "import torch"
   ]
  },
  {
   "cell_type": "code",
   "execution_count": 2,
   "id": "701d96ee-4515-41ed-8cf1-19c5c97f7c6f",
   "metadata": {},
   "outputs": [],
   "source": [
    "\n",
    "class myRNNModel(torch.nn.Module):\n",
    "    \n",
    "    def __init__(self):\n",
    "        \n",
    "        super(myRNNModel, self).__init__()\n",
    "        \n",
    "        # Define RNN Cell\n",
    "        # nonlinearity is the default (tanh)\n",
    "        self.rnn = torch.nn.RNN(input_size=30, hidden_size=128, num_layers=1)\n",
    "        \n",
    "        # embedding layer with 10 embeddings (num of unique char)\n",
    "        # with dimension of 30 (size of the vector that encodes each char)\n",
    "        self.embedding = torch.nn.embedding(10, 30)\n",
    "        self.decoder = torch.nn.Linear(128, 10)\n",
    "        \n",
    "        \n",
    "    def forward(self, input_seq, hidden_state):\n",
    "        # foward pass input sequence to embedding layer\n",
    "        embedding = self.embedding(input_seq)\n",
    "        output, hidden_state = self.rnn(embedding, hidden_state)\n",
    "        \n",
    "        # forward pass the RNN cell output to decoder to get the probabilities\n",
    "        output = self.decoder(output)\n",
    "        \n",
    "        return output, hidden_state.detach()\n"
   ]
  },
  {
   "cell_type": "code",
   "execution_count": null,
   "id": "153882b0-8b8c-45a7-9f61-b5228e001b64",
   "metadata": {},
   "outputs": [],
   "source": []
  },
  {
   "cell_type": "code",
   "execution_count": null,
   "id": "404978e7-cb9e-4b0f-80d5-aafece2d22ac",
   "metadata": {},
   "outputs": [],
   "source": []
  }
 ],
 "metadata": {
  "kernelspec": {
   "display_name": "Python 3",
   "language": "python",
   "name": "python3"
  },
  "language_info": {
   "codemirror_mode": {
    "name": "ipython",
    "version": 3
   },
   "file_extension": ".py",
   "mimetype": "text/x-python",
   "name": "python",
   "nbconvert_exporter": "python",
   "pygments_lexer": "ipython3",
   "version": "3.8.8"
  }
 },
 "nbformat": 4,
 "nbformat_minor": 5
}
